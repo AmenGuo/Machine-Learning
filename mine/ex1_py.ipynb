{
 "cells": [
  {
   "cell_type": "code",
   "execution_count": 1,
   "metadata": {},
   "outputs": [
    {
     "name": "stdout",
     "output_type": "stream",
     "text": [
      "(97L, 2L)\n"
     ]
    }
   ],
   "source": [
    "#coding:utf-8\n",
    "#==================== Part 1: Basic Function ====================\n",
    "with open('D:\\ex1data1.txt', 'r') as f:  \n",
    "    data = f.readlines()  #txt中所有字符串读入data  \n",
    "\n",
    "datamat = []\n",
    "for line in data:  \n",
    "    odom = line.strip().split(',')        #将单个数据分隔开存好  \n",
    "    numbers_float = map(float, odom) #转化为浮点数  \n",
    "    datamat.append(numbers_float)\n",
    "\n",
    "#print datamat\n",
    "\n",
    "import numpy as np\n",
    "\n",
    "datanp = np.array(datamat)\n",
    "#print datanp\n",
    "\n",
    "x = datanp[:,0].reshape((97,1))  #必须要reshape一下，不然为(97,)的形式，类似于数组，不是行列了！！！\n",
    "y = datanp[:,1].reshape((97,1))\n",
    "\n",
    "lenY = len(y)\n",
    "X = np.hstack((np.ones((lenY,1)),x)) #按水平方向合并2*97\n",
    "# print X\n",
    "# print y\n",
    "\n",
    "print X.shape"
   ]
  },
  {
   "cell_type": "code",
   "execution_count": 2,
   "metadata": {},
   "outputs": [
    {
     "data": {
      "image/png": "[encoded data removed]",
      "text/plain": [
       "<matplotlib.figure.Figure at 0x5604978>"
      ]
     },
     "metadata": {},
     "output_type": "display_data"
    }
   ],
   "source": [
    "#======================= Part 2: Plotting =======================\n",
    "import matplotlib.pyplot as plt  \n",
    "f = plt.figure()  \n",
    "p = plt.scatter(x, y, marker = 'o', color = 'm')  \n",
    "plt.show()"
   ]
  },
  {
   "cell_type": "code",
   "execution_count": 3,
   "metadata": {},
   "outputs": [
    {
     "name": "stdout",
     "output_type": "stream",
     "text": [
      "32.0727338775\n",
      "[[ 0.]\n",
      " [ 0.]]\n"
     ]
    }
   ],
   "source": [
    "#=================== Part 3: Cost and Gradient descent ===================\n",
    "theta = np.zeros((2,1))    #initialize theta\n",
    "#print theta\n",
    "\n",
    "#Some gradient descent settings\n",
    "iterations = 1500\n",
    "alpha = 0.01\n",
    "\n",
    "####functin#######\n",
    "def computeCost(X, y, theta):\n",
    "    J =  (1.0/(2*lenY)) * np.sum((np.dot(X,theta)-y)**2)  \n",
    "    return J\n",
    "\n",
    "J = computeCost(X, y, theta)#compute and display initial cost\n",
    "print J\n",
    "\n",
    "\n",
    "\n",
    "print theta"
   ]
  },
  {
   "cell_type": "code",
   "execution_count": 4,
   "metadata": {},
   "outputs": [
    {
     "name": "stdout",
     "output_type": "stream",
     "text": [
      "[[-3.62981201]\n",
      " [ 1.16631419]]\n"
     ]
    }
   ],
   "source": [
    "def gradientDescent(X, y, theta, alpha, num_iters):\n",
    "    J_history = []\n",
    "    \n",
    "    for iter in xrange(1,num_iters):\n",
    "        theta = theta-(alpha*(1.0/lenY)*np.dot((np.dot(X,theta)-y).T,X)).reshape((2,1)) \n",
    "        #要reshape！不然就是1*2的行向量！！！\n",
    "        #Save the cost J in every iteration    \n",
    "        J_history.append(computeCost(X, y, theta))\n",
    "    return theta, J_history\n",
    "\n",
    "\n",
    "theta,J_history = gradientDescent(X, y, theta, alpha, iterations)\n",
    "\n",
    "# print theta to screen\n",
    "print theta\n",
    "\n",
    "# Plot the linear fit\n",
    "# previous plot visible\n"
   ]
  },
  {
   "cell_type": "code",
   "execution_count": 5,
   "metadata": {},
   "outputs": [
    {
     "data": {
      "image/png": "[encoded data removed]",
      "text/plain": [
       "<matplotlib.figure.Figure at 0x55c69b0>"
      ]
     },
     "metadata": {},
     "output_type": "display_data"
    }
   ],
   "source": [
    "#%% ============= Part 4: Visualizing J(theta_0, theta_1) =============\n",
    "#y=theta0+theta1*x\n",
    "fig = plt.figure() \n",
    "ax=fig.add_subplot(111)\n",
    "ax = plt.scatter(x, y, marker = 'x', color = 'm')  \n",
    "\n",
    "x = [3,25]\n",
    "y = theta[0]+theta[1]*x\n",
    "plt.plot(x,y)#调用plot函数绘制得到由点生成的线条\n",
    "\n",
    "plt.show()"
   ]
  },
  {
   "cell_type": "code",
   "execution_count": 32,
   "metadata": {},
   "outputs": [
    {
     "data": {
      "text/plain": [
       "<matplotlib.figure.Figure at 0xcbd82e8>"
      ]
     },
     "metadata": {},
     "output_type": "display_data"
    },
    {
     "data": {
      "text/plain": [
       "<matplotlib.figure.Figure at 0xcbf8978>"
      ]
     },
     "metadata": {},
     "output_type": "display_data"
    },
    {
     "data": {
      "image/png": "[encoded data removed]",
      "text/plain": [
       "<matplotlib.figure.Figure at 0xcbf85c0>"
      ]
     },
     "metadata": {},
     "output_type": "display_data"
    }
   ],
   "source": [
    "#theta\n",
    "fig = plt.figure() \n",
    "y = J_history\n",
    "x = np.arange(1,len(y)+1,1)\n",
    "plt.plot(x,y)\n",
    "plt.show()"
   ]
  },
  {
   "cell_type": "markdown",
   "metadata": {
    "collapsed": true
   },
   "source": [
    "***\n",
    "数据来源：Andrew Ng课程  \n",
    "参考代码：[课程matlab代码](https://github.com/fire717/Machine-Learning/tree/master/coursera_ML/ex1_liner)"
   ]
  },
  {
   "cell_type": "code",
   "execution_count": null,
   "metadata": {
    "collapsed": true
   },
   "outputs": [],
   "source": []
  }
 ],
 "metadata": {
  "kernelspec": {
   "display_name": "Python 2",
   "language": "python",
   "name": "python2"
  },
  "language_info": {
   "codemirror_mode": {
    "name": "ipython",
    "version": 2
   },
   "file_extension": ".py",
   "mimetype": "text/x-python",
   "name": "python",
   "nbconvert_exporter": "python",
   "pygments_lexer": "ipython2",
   "version": "2.7.11"
  }
 },
 "nbformat": 4,
 "nbformat_minor": 2
}
