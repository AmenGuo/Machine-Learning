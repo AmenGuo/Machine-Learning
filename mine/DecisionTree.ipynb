{
 "cells": [
  {
   "cell_type": "markdown",
   "metadata": {
    "collapsed": true
   },
   "source": [
    "### 决策树\n",
    "\n",
    "经验：SVM统计学习方法比西瓜书讲得好，决策树还是西瓜书讲得更好。\n",
    "\n",
    "但是这里为了方便还是用统计里的。（其实是因为数据少一点，少花时间一点...）\n",
    "\n",
    "因为走基本原理，这里是基于ID3的。C4.5和CART其实都差不多，只是衡量划分好坏的标准不同。\n",
    "\n",
    "#### 数据选自 统计学习方法\n",
    " ID | 年龄 | 有工作 | 有房子 | 信贷情况 | 类别\n",
    "----|------|-------|-------|---------|-----\n",
    "  1 | 青年 |  否   |  否    |  一般   |  否 \n",
    "  2 | 青年 |  否   |  否    |   好    |  否 \n",
    "  3 | 青年 |  是   |  否    |   好    |  是 \n",
    "  4 | 青年 |  是   |  是    |  一般   |  是 \n",
    "  5 | 青年 |  否   |  否    |  一般   |  否       \n",
    "  6 | 中年 |  否   |  否    |  一般   |  否 \n",
    "  7 | 中年 |  否   |  否    |   好    |  否 \n",
    "  8 | 中年 |  是   |  是    |   好    |  是 \n",
    "  9 | 中年 |  否   |  是    |  非常好 |  是 \n",
    " 10 | 中年 |  否   |  是    |  非常好 |  是  \n",
    " 11 | 老年 |  否   |  是    |  非常好 |  是 \n",
    " 12 | 老年 |  否   |  是    |   好    |  是 \n",
    " 13 | 老年 |  是   |  否    |   好    |  是 \n",
    " 14 | 老年 |  是   |  否    |  非常好 |  是 \n",
    " 15 | 老年 |  否   |  否    |  一般   |  否   \n",
    " \n",
    "#### 数值化 \n",
    " ID | A1 | A2 | A3 | A4 | Y\n",
    "----|----|----|----|----|-----\n",
    "  1 | 1  |  2 |  2 |  3 |  2 \n",
    "  2 | 1  |  2 |  2 |  2 |  2 \n",
    "  3 | 1  |  1 |  2 |  2 |  1 \n",
    "  4 | 1  |  1 |  1 |  3 |  1 \n",
    "  5 | 1  |  2 |  2 |  3 |  2       \n",
    "  6 | 2  |  2 |  2 |  3 |  2 \n",
    "  7 | 2  |  2 |  2 |  2 |  2 \n",
    "  8 | 2  |  1 |  1 |  2 |  1 \n",
    "  9 | 2  |  2 |  1 |  1 |  1 \n",
    " 10 | 2  |  2 |  1 |  1 |  1  \n",
    " 11 | 3  |  2 |  1 |  1 |  1\n",
    " 12 | 3  |  2 |  1 |  2 |  1 \n",
    " 13 | 3  |  1 |  2 |  2 |  1 \n",
    " 14 | 3  |  1 |  2 |  1 |  1 \n",
    " 15 | 3  |  2 |  2 |  3 |  2   "
   ]
  },
  {
   "cell_type": "code",
   "execution_count": 6,
   "metadata": {},
   "outputs": [],
   "source": [
    "####### 1.输入数据 #######\n",
    "import numpy as np\n",
    "data = np.array([[1,2,2,3,2],\n",
    "                 [1,2,2,2,2],\n",
    "                 [1,1,2,2,1],\n",
    "                 [1,1,1,3,1],\n",
    "                 [1,2,2,3,2],\n",
    "                 [2,2,2,3,2],\n",
    "                 [2,2,2,2,2],\n",
    "                 [2,1,1,2,1],\n",
    "                 [2,2,1,1,1],\n",
    "                 [2,2,1,1,1],\n",
    "                 [3,2,1,1,1],\n",
    "                 [3,2,1,2,1],\n",
    "                 [3,1,2,2,1],\n",
    "                 [3,1,2,1,1],\n",
    "                 [3,2,2,3,2]])\n"
   ]
  },
  {
   "cell_type": "code",
   "execution_count": null,
   "metadata": {},
   "outputs": [],
   "source": [
    "####### 2.算法 #######\n",
    "def cal_info_gain(i,data):\n",
    "    data_col = data[:,i]\n",
    "    total = len(data_col)\n",
    "    cates = list(set(data_col))\n",
    "    cates_num = len(cates)\n",
    "    H_D = 0\n",
    "    H_DA = 0\n",
    "    for j in range(cates_num):\n",
    "        X = data_col[data_col==cates[j]]  #提取出特征i的值为j的数据行\n",
    "        p = len(X)/total\n",
    "        H_D += -p*np.log(p)\n",
    "        dataX =  data[data_col==cates[j],:]\n",
    "        dataX = dataX[:,-1] \n",
    "        H_DA += p* (len(dataX[dataX==dataX[0]]) / len(dataX))\n",
    "    g = H_D-H_DA\n",
    "    return g\n",
    "\n",
    "n = data.shape[1] - 1 #初始特征数\n",
    "BFS_data = [data]#把带划分的数据集存到一个list，宽度优先遍历\n",
    "tree_dot = []  #记录划分特征的顺序\n",
    "tree_leef = [] #记录划分好的分类\n",
    "layer_num = [1,] #记录每一层非叶子(数据)节点数，方便后面宽度优先统计\n",
    "\n",
    "while len(data)>0:\n",
    "    data_old = BFS_data[0]\n",
    "    MaxInfo,MaxI = 0,0\n",
    "    for i in range(n): #i代表特征种类序号\n",
    "        #计算每种划分的信息增益\n",
    "        info_gain = cal_info_gain(i,data_old)\n",
    "        if info_gain>MaxInfo:\n",
    "            MaxInfo = info_gain\n",
    "            MaxI = i\n",
    "    tree_dot.append(i)\n",
    "    #把数据集按当前划分划分为新数据集\n",
    "    cates = list(set(data[:,MaxI])) #遍历该特征不同取值\n",
    "    count = 0\n",
    "    for j in range(len(cates)): \n",
    "        data_t = data_old[data[:,MaxI]==cates[j]]\n",
    "        if np.max(data_t[:,-1]) == np.min(data_t[:,-1]):#停止条件，该类只有一种标签\n",
    "             #该类数据不用再分，同时标记其对应分类\n",
    "            tree_leef.append([i,j,data_t[0,-1]])\n",
    "            continue\n",
    "        else:\n",
    "            count+=1\n",
    "            BFS_data.append(data_t)\n",
    "    layer_num.append(count)  \n",
    "    \n",
    "print(tree_dot)\n",
    "print(tree_leef)\n",
    "print(layer_num)"
   ]
  },
  {
   "cell_type": "code",
   "execution_count": null,
   "metadata": {
    "collapsed": true
   },
   "outputs": [],
   "source": [
    "####### 3.输出 #######\n",
    "#整理"
   ]
  },
  {
   "cell_type": "code",
   "execution_count": null,
   "metadata": {
    "collapsed": true
   },
   "outputs": [],
   "source": []
  }
 ],
 "metadata": {
  "kernelspec": {
   "display_name": "Python 3",
   "language": "python",
   "name": "python3"
  },
  "language_info": {
   "codemirror_mode": {
    "name": "ipython",
    "version": 3
   },
   "file_extension": ".py",
   "mimetype": "text/x-python",
   "name": "python",
   "nbconvert_exporter": "python",
   "pygments_lexer": "ipython3",
   "version": "3.5.4"
  }
 },
 "nbformat": 4,
 "nbformat_minor": 2
}
