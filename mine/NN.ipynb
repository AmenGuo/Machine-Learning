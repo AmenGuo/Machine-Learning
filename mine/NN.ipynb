{
 "cells": [
  {
   "cell_type": "code",
   "execution_count": 3,
   "metadata": {
    "collapsed": true
   },
   "outputs": [],
   "source": [
    "#coding:utf-8\n",
    "\n",
    "#==================== Part 0: Basic Function ====================\n",
    "with open('D:\\ex2data1.txt', 'r') as f:  \n",
    "    data = f.readlines()  #txt中所有字符串读入data  \n",
    "\n",
    "datamat = []\n",
    "for line in data:  \n",
    "    odom = line.strip().split(',')        #将单个数据分隔开存好  \n",
    "    numbers_float = list(map(float, odom)) #转化为浮点数  py3必须加list\n",
    "    datamat.append(numbers_float)\n",
    "\n",
    "#print datamat\n",
    "import numpy as np\n",
    "\n",
    "datanp = np.array(datamat)\n",
    "#print(datanp.shape)\n",
    "x = datanp[:,(0,1)].reshape((100,2))  \n",
    "y = datanp[:,2]\n",
    "x-=x.min()#normalization\n",
    "x/=x.max()"
   ]
  },
  {
   "cell_type": "code",
   "execution_count": 4,
   "metadata": {},
   "outputs": [
    {
     "data": {
      "image/png": "[encoded data removed]",
      "text/plain": [
       "<matplotlib.figure.Figure at 0x650f588>"
      ]
     },
     "metadata": {},
     "output_type": "display_data"
    }
   ],
   "source": [
    "#%% ==================== Part 1: Plotting ====================\n",
    "#We start the exercise by first plotting the data to understand the the problem we are working with.\n",
    "import matplotlib.pyplot as plt\n",
    "\n",
    "def plotData(x,y):\n",
    "    y=y.reshape((len(y),1))\n",
    "    fig = plt.figure()  \n",
    "    ax= fig.add_subplot(111) #使画在一个图上\n",
    "    \n",
    "    pos = np.where(y[:,0]==0) #y为类似矩阵形式，所以要再取第一列\n",
    "    neg = np.where(y[:,0]==1)\n",
    "    ax1 = plt.scatter(x[pos,0], x[pos,1], marker = 'x', color = 'm')  \n",
    "    ax2 = plt.scatter(x[neg,0], x[neg,1], marker = 'o', color = 'r')  \n",
    "    plt.xlabel('exam1 score') \n",
    "    plt.ylabel('exam2 score')\n",
    "    \n",
    "    plt.legend([ax1, ax2], ['Admitted', 'Not admitted'])\n",
    "    plt.show()\n",
    "\n",
    "plotData(x,y)"
   ]
  },
  {
   "cell_type": "code",
   "execution_count": 109,
   "metadata": {},
   "outputs": [],
   "source": [
    "################# N N ######################\n",
    "#定义NeuralNetwork 神经网络算法  \n",
    "class NeuralNetwork:  \n",
    "    def __init__(self, layers):  \n",
    "        self.activation = self.logistic  \n",
    "        self.activation_deriv = self.logistic_derivative\n",
    "        self.weights = []  \n",
    "        #权重的初始化  \n",
    "        for i in range(len(layers) - 1):  \n",
    "            #对当前神经节点的前驱赋值  \n",
    "            self.weights.append(np.random.randn(layers[i]+1 , layers[i+1])/np.sqrt(layers[i]+1)) \n",
    "        self.weights = np.array(self.weights)\n",
    "        #print(self.weights)  \n",
    "        \n",
    "    def logistic(self,x):  \n",
    "        return 1/(1 + np.exp(-x))  \n",
    "  \n",
    "    def logistic_derivative(self,x):  \n",
    "        return self.logistic(x)*(1-self.logistic(x))  \n",
    "    \n",
    "    #训练函数   ，X矩阵，每行是一个实例 ，y是每个实例对应的结果，learning_rate 学习率，   \n",
    "    # epochs，表示抽样的方法对神经网络进行更新的最大次数  \n",
    "    def fit(self, X, y, learning_rate=0.01, iterations=3000):  \n",
    "        X = np.hstack((np.ones((X.shape[0],1)),X))\n",
    "        y = np.array(y) \n",
    "        \n",
    "        global J_history\n",
    "        J_history=[]\n",
    "        for k in range(iterations):  \n",
    "            #随机选取一行，对神经网络进行更新  \n",
    "            i = np.random.randint(X.shape[0])   \n",
    "            a = [X[i]]   #每一层的z值\n",
    "  \n",
    "            #完成所有正向的更新  \n",
    "            for l in range(len(self.weights)):\n",
    "                if l == len(self.weights)-1:\n",
    "                    a.append(self.activation(np.dot(a[l], self.weights[l])))\n",
    "                else:\n",
    "                    a.append(np.hstack((np.ones(1),self.activation(np.dot(a[l], self.weights[l])))))\n",
    "            a=np.array(a)\n",
    "\n",
    "            ##########开始反向计算误差， ###########\n",
    "            J = -(y[i]*np.log(a[-1])+(1-y[i])*np.log(1-a[-1]))\n",
    "            J_history.append(J)\n",
    "            \n",
    "            grad2= (a[-1]-y[i])*a[-2] # *为element-wise乘\n",
    "\n",
    "            '''\n",
    "            #梯度检验没问题\n",
    "            print(np.sum(grad2))\n",
    "            eps = 0.0001\n",
    "            w1=self.weights[1]+eps\n",
    "            w2=self.weights[1]-eps\n",
    "            new_a1 = self.activation(np.dot(a[1], w1))\n",
    "            new_a2 = self.activation(np.dot(a[1], w2))\n",
    "            grad2Approx = ( -(y[i]*np.log(new_a1)+(1-y[i])*np.log(1-new_a1))+(y[i]*np.log(new_a2)+(1-y[i])*np.log(1-new_a2)))/(2*eps)\n",
    "            print(grad2Approx)\n",
    "            '''\n",
    "\n",
    "            grad1 = np.zeros((len(a[0]),len(a[1])-1))\n",
    "            \n",
    "            for ii in range(len(a[0])):\n",
    "                for jj in range(1,len(a[1])):\n",
    "                    grad1[ii][jj-1] = (a[-1]-y[ii])*self.weights[1][jj]*a[1][jj]*(1-a[1][jj])*a[0][ii]\n",
    "            #更新w\n",
    "            grad2 = grad2.reshape(self.weights[1].shape)\n",
    "            self.weights[0] -= learning_rate*grad1\n",
    "            self.weights[1] -= learning_rate*grad2\n",
    "            \n",
    "    def predict(self,x):\n",
    "        a1=np.hstack((np.ones((x.shape[0],1)),x))\n",
    "        a2=np.hstack((np.ones((x.shape[0],1)),self.activation(a1.dot(self.weights[0]))))\n",
    "        pre_y = self.activation(a2.dot(self.weights[1]))\n",
    "        return pre_y"
   ]
  },
  {
   "cell_type": "code",
   "execution_count": 112,
   "metadata": {},
   "outputs": [
    {
     "name": "stdout",
     "output_type": "stream",
     "text": [
      "Start fitting...\n",
      "[[ 0.5949119 ]\n",
      " [ 0.58791779]\n",
      " [ 0.59300019]\n",
      " [ 0.58651685]\n",
      " [ 0.57618863]]\n"
     ]
    }
   ],
   "source": [
    "nn =NeuralNetwork([2,3,1])  \n",
    "\n",
    "print('Start fitting...')\n",
    "nn.fit(x,y)  \n",
    "\n",
    "#print(nn.weights)\n",
    "print(nn.predict(x[:5,:]))\n",
    "#print(y[:5])"
   ]
  },
  {
   "cell_type": "code",
   "execution_count": 113,
   "metadata": {},
   "outputs": [
    {
     "data": {
      "image/png": "[encoded data removed]",
      "text/plain": [
       "<matplotlib.figure.Figure at 0x1a3b4908>"
      ]
     },
     "metadata": {},
     "output_type": "display_data"
    }
   ],
   "source": [
    "####J\n",
    "import matplotlib.pyplot as plt  \n",
    "fig = plt.figure() \n",
    "y_plot = J_history\n",
    "x_plot = np.arange(1,len(y_plot)+1,1)\n",
    "plt.plot(x_plot,y_plot)\n",
    "plt.show()"
   ]
  },
  {
   "cell_type": "markdown",
   "metadata": {
    "collapsed": true
   },
   "source": [
    "J根本不收敛，不知道问题出现在哪，因为原理感觉理解了，代码也都是亲自写的...\n",
    "先放在这吧。"
   ]
  },
  {
   "cell_type": "code",
   "execution_count": null,
   "metadata": {
    "collapsed": true
   },
   "outputs": [],
   "source": []
  }
 ],
 "metadata": {
  "kernelspec": {
   "display_name": "Python 3",
   "language": "python",
   "name": "python3"
  },
  "language_info": {
   "codemirror_mode": {
    "name": "ipython",
    "version": 3
   },
   "file_extension": ".py",
   "mimetype": "text/x-python",
   "name": "python",
   "nbconvert_exporter": "python",
   "pygments_lexer": "ipython3",
   "version": "3.5.2rc1"
  }
 },
 "nbformat": 4,
 "nbformat_minor": 2
}
