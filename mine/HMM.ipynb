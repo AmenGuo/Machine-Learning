{
 "cells": [
  {
   "cell_type": "markdown",
   "metadata": {},
   "source": [
    "### HMM三个基本问题\n",
    "\n",
    "----------\n",
    "#### 1.概率计算问题\n",
    "盒子和球模型λ=(A,B,π)，状态集合Q=｛1，2，3｝，观测集合V=｛红，白｝，\n",
    "\n",
    "A = [ 0.5 0.2 0.3           \n",
    "\n",
    "     0.3 0.5 0.2\n",
    "     \n",
    "     0.2 0.3 0.5]\n",
    "     \n",
    "B = [0.5 0.5\n",
    "\n",
    "     0.4 0.6\n",
    "     \n",
    "     0.7 0.3]\n",
    "     \n",
    "π=(0.2,0.4,0.4)^T\n",
    "\n",
    "设T=3，0=（红，白，红）。计算P(O|π)"
   ]
  },
  {
   "cell_type": "code",
   "execution_count": 40,
   "metadata": {},
   "outputs": [
    {
     "name": "stdout",
     "output_type": "stream",
     "text": [
      "[[ 0.1       0.16      0.28    ]\n",
      " [ 0.077     0.1104    0.0606  ]\n",
      " [ 0.04187   0.035512  0.052836]]\n"
     ]
    },
    {
     "data": {
      "text/plain": [
       "0.130218"
      ]
     },
     "execution_count": 40,
     "metadata": {},
     "output_type": "execute_result"
    }
   ],
   "source": [
    "import numpy as np\n",
    "####### 1.1 前向算法 ########\n",
    "# 0.数值化\n",
    "A = np.array([[0.5,0.2,0.3],\n",
    "              [0.3,0.5,0.2],\n",
    "              [0.2,0.3,0.5]])\n",
    "B = np.array([[0.5,0.5],\n",
    "              [0.4,0.6],\n",
    "              [0.7,0.3]])\n",
    "pi = np.array([0.2,0.4,0.4]).reshape((3,1))\n",
    "lambd = [A,B,pi]\n",
    "Q = [1,2,3]\n",
    "V = ['r','w']\n",
    "V = [0,1]\n",
    "\n",
    "T = 3\n",
    "O = ('r','w','r')\n",
    "O = [0,1,0]\n",
    "\n",
    "def forwardCal(lambd,O,T,Q,V):\n",
    "    alpha = np.zeros((T,len(Q)))\n",
    "    # 1.计算初值\n",
    "    for i in range(T):\n",
    "        alpha[O[0]][i] = pi[i]*lambd[1][i][O[0]]\n",
    "    # 2.递推计算\n",
    "    for i in range(1,T):\n",
    "        for j in range(len(Q)):\n",
    "            alpha[i][j] = np.sum(alpha[i-1,:]*lambd[0][:,j])*lambd[1][j,O[i]]\n",
    "    # 3.终止\n",
    "    print(alpha)\n",
    "    P = np.sum(alpha[-1,:])\n",
    "    return P\n",
    "\n",
    "forwardCal(lambd,O,T,Q,V)"
   ]
  },
  {
   "cell_type": "code",
   "execution_count": 2,
   "metadata": {
    "collapsed": true
   },
   "outputs": [],
   "source": [
    "####### 1.2 后向算法 ########\n"
   ]
  },
  {
   "cell_type": "markdown",
   "metadata": {},
   "source": [
    "#### 2.学习问题"
   ]
  },
  {
   "cell_type": "code",
   "execution_count": 3,
   "metadata": {
    "collapsed": true
   },
   "outputs": [],
   "source": [
    "####### 2.1 Baum-Welch算法 ########"
   ]
  },
  {
   "cell_type": "markdown",
   "metadata": {},
   "source": [
    "#### 3.预测问题"
   ]
  },
  {
   "cell_type": "code",
   "execution_count": null,
   "metadata": {
    "collapsed": true
   },
   "outputs": [],
   "source": [
    "####### 3.1 维特比算法 ########"
   ]
  }
 ],
 "metadata": {
  "kernelspec": {
   "display_name": "Python 3",
   "language": "python",
   "name": "python3"
  },
  "language_info": {
   "codemirror_mode": {
    "name": "ipython",
    "version": 3
   },
   "file_extension": ".py",
   "mimetype": "text/x-python",
   "name": "python",
   "nbconvert_exporter": "python",
   "pygments_lexer": "ipython3",
   "version": "3.5.4"
  }
 },
 "nbformat": 4,
 "nbformat_minor": 2
}
