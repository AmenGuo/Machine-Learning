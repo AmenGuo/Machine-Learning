{
 "cells": [
  {
   "cell_type": "markdown",
   "metadata": {},
   "source": [
    "### 模型2   纯ML算法\n",
    "#### 1.特征工程"
   ]
  },
  {
   "cell_type": "code",
   "execution_count": 1,
   "metadata": {},
   "outputs": [],
   "source": [
    "############# 1.数据预处理 ################\n",
    "import numpy as np\n",
    "import tensorflow as tf\n",
    "import pandas as pd\n",
    "from pandas import Series,DataFrame\n",
    "\n",
    "train_shop = pd.read_csv(r\"F:/data/shop/训练数据-ccf_first_round_shop_info.csv\")\n",
    "train_user = pd.read_csv(r\"F:/data/shop/训练数据-ccf_first_round_user_shop_behavior.csv\")\n",
    "test = pd.read_csv(r\"F:/data/shop/AB榜测试集-evaluation_public.csv\")"
   ]
  },
  {
   "cell_type": "code",
   "execution_count": null,
   "metadata": {},
   "outputs": [],
   "source": []
  }
 ],
 "metadata": {
  "kernelspec": {
   "display_name": "Python 3",
   "language": "python",
   "name": "python3"
  },
  "language_info": {
   "codemirror_mode": {
    "name": "ipython",
    "version": 3
   },
   "file_extension": ".py",
   "mimetype": "text/x-python",
   "name": "python",
   "nbconvert_exporter": "python",
   "pygments_lexer": "ipython3",
   "version": "3.5.4"
  }
 },
 "nbformat": 4,
 "nbformat_minor": 2
}
