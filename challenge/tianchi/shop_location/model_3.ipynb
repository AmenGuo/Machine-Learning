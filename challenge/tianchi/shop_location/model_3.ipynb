{
 "cells": [
  {
   "cell_type": "markdown",
   "metadata": {},
   "source": [
    "### 模型3 KNN\n",
    "参考mobike例子"
   ]
  },
  {
   "cell_type": "code",
   "execution_count": 1,
   "metadata": {},
   "outputs": [],
   "source": [
    "############# 1.数据预处理 ################\n",
    "import numpy as np\n",
    "import tensorflow as tf\n",
    "import pandas as pd\n",
    "from pandas import Series,DataFrame\n",
    "\n",
    "train_shop = pd.read_csv(r\"F:/data/shop/训练数据-ccf_first_round_shop_info.csv\")\n",
    "train_user = pd.read_csv(r\"F:/data/shop/训练数据-ccf_first_round_user_shop_behavior.csv\")\n",
    "test = pd.read_csv(r\"F:/data/shop/AB榜测试集-evaluation_public.csv\")"
   ]
  },
  {
   "cell_type": "markdown",
   "metadata": {},
   "source": [
    "先不考虑时间。\n",
    "\n",
    "根据test中的项目，分别建立user_id-shop_id;mall_id-shop_id;lola-shop_id;category-shop_id的字典。\n",
    "\n",
    "其中种类在训练集中取（时间段，种类）来训练test中的时间段得到估计种类。SVM / 随即森林 / XGBOOST\n",
    "\n",
    "根据经纬度选出最可能的5家，根据mall排除不可能的，根据user选出最可能的5家，根据种类选择最可能的5家。\n",
    "\n",
    "每个可能的shop的score = lola \\* [20,16,12,8,4,1] + user \\* [20,16,12,8,4,1] \\*1.2 + cate\\*[20,16,12,8,4,1] \\*0.6\n",
    "\n",
    "注意:不同标准下最可能的5家中可能与其他标准的5家有重合，所以相加来比较。\n",
    "\n",
    "然后根据权值结合打分,选最高的。"
   ]
  },
  {
   "cell_type": "code",
   "execution_count": null,
   "metadata": {},
   "outputs": [],
   "source": [
    "######### 1.根据时间预测种类 ##########\n"
   ]
  }
 ],
 "metadata": {
  "kernelspec": {
   "display_name": "Python 3",
   "language": "python",
   "name": "python3"
  },
  "language_info": {
   "codemirror_mode": {
    "name": "ipython",
    "version": 3
   },
   "file_extension": ".py",
   "mimetype": "text/x-python",
   "name": "python",
   "nbconvert_exporter": "python",
   "pygments_lexer": "ipython3",
   "version": "3.5.4"
  }
 },
 "nbformat": 4,
 "nbformat_minor": 2
}
